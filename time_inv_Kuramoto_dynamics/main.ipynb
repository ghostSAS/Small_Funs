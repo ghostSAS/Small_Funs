{
 "cells": [
  {
   "cell_type": "code",
   "execution_count": 77,
   "id": "1c55cc94-0555-457e-ace8-424148e85d9e",
   "metadata": {},
   "outputs": [],
   "source": [
    "import numpy as np\n",
    "import matplotlib.pyplot as plt\n",
    "import time \n",
    "from scipy.integrate import odeint"
   ]
  },
  {
   "cell_type": "code",
   "execution_count": 211,
   "id": "8c2d79ef-9fd2-43a3-b567-20c660ec0d7c",
   "metadata": {},
   "outputs": [],
   "source": [
    "class agent():\n",
    "    def __init__(self,idd,linkedId,omega=1,ndim=1):\n",
    "        # self.x = np.random.uniform(low=0, high=2*np.pi,size=(ndim,))\n",
    "        self.x = np.ones((ndim,))*idd%3*2*np.pi/3\n",
    "        self.omega = omega\n",
    "        self.id = idd\n",
    "        self.linkedId = linkedId\n",
    "        \n",
    "    def ddtX(self,x,t,othersX):\n",
    "        return self.omega - np.sum(np.sin((othersX-x)))\n",
    "    \n",
    "    def nextX(self,dt,othersX):\n",
    "        self.x = odeint(self.ddtX,self.x,[0,dt],args=(othersX,))[-1]\n",
    "        return self.x\n",
    "    \n",
    "class drawAgents():\n",
    "    def __init__(self):\n",
    "        plt.figure()\n",
    "        theta = np.linspace(0,2*np.pi,200)\n",
    "        self.track = plt.plot(np.cos(theta),np.sin(theta))\n",
    "        plt.axis('equal')\n",
    "        \n",
    "        self.canvas = plt\n",
    "        \n",
    "    def addAgents(self,agents):\n",
    "        self.agentsPlt = self.canvas.scatter(np.cos(agents),np.sin(agents),50,'r')\n",
    "        \n",
    "    def show(self):\n",
    "        self.canvas.show()\n",
    "        \n",
    "    def removeAgents(self):\n",
    "        self.agentsPlt.remove()\n",
    "        \n"
   ]
  },
  {
   "cell_type": "code",
   "execution_count": 212,
   "id": "61a17a8d-874b-4016-95ec-de9082e333e3",
   "metadata": {},
   "outputs": [
    {
     "data": {
      "image/png": "[encoded data removed]",
      "text/plain": [
       "<Figure size 432x288 with 1 Axes>"
      ]
     },
     "metadata": {
      "needs_background": "light"
     },
     "output_type": "display_data"
    }
   ],
   "source": [
    "dt = .1\n",
    "T = 100\n",
    "totalNum = int(T/dt)\n",
    "\n",
    "\n",
    "# initialize agents\n",
    "numAgents = 15\n",
    "agents = [agent(i,[(i-1)%numAgents, (i+1)%numAgents],omega=omega) for i in range(numAgents) ]\n",
    "agentsVal = [agents[i].x for i in range(numAgents) ]\n",
    "coordTrans = 1\n",
    "\n",
    "# for control\n",
    "numCluster = 3\n",
    "alpha = int(numAgents/numCluster)\n",
    "omega = 1\n",
    "pertTimes = 5\n",
    "\n",
    "# initialize canvas\n",
    "canvas = drawAgents()\n",
    "canvas.addAgents(agentsVal)\n",
    "canvas.show()\n",
    "canvas.removeAgents()\n",
    "\n",
    "recordX = np.zeros((totalNum,numAgents))\n",
    "recordV = np.zeros((totalNum-1,))\n",
    "recordX[0,:] = np.array(agentsVal).squeeze()\n",
    "\n",
    "    \n",
    "for i in range(totalNum-1):\n",
    "    \n",
    "    temp = np.zeros((numAgents,))\n",
    "    for j in range(numAgents):\n",
    "        \n",
    "        otherAgentsVal = [agents[i].x for i in agents[j].linkedId]\n",
    "        agentsVal[j] = agents[j].nextX(dt,otherAgentsVal)\n",
    "        temp[j] = np.cos(otherAgentsVal-agentsVal[j]).sum()\n",
    "        # agents[j].x = agentsVal[j]\n",
    "    \n",
    "    \n",
    "        \n",
    "    if not i%int(totalNum/pertTimes) and i != 0:\n",
    "        # for j in range(numAgents):\n",
    "        #     agents[j].x *= alpha\n",
    "        #     agentsVal[j] = agents[j].x\n",
    "        agents[0].x += np.pi/2\n",
    "        \n",
    "        \n",
    "    if coordTrans :\n",
    "        recordX[i+1,:] = np.array(agentsVal).squeeze() - omega*i*dt\n",
    "        # recordX[i+1,:] = np.array(agentsVal).squeeze() - agentsVal[0]\n",
    "    else:\n",
    "        recordX[i+1,:] = np.array(agentsVal).squeeze()\n",
    "        \n",
    "    recordV[i] = (pow(numAgents,2)-2*numAgents+2*temp.sum())/pow(numAgents,2)\n",
    "    \n",
    "\n",
    "   "
   ]
  },
  {
   "cell_type": "code",
   "execution_count": 213,
   "id": "451de75d-d2a5-4094-932f-8eb8d1f0e35f",
   "metadata": {},
   "outputs": [
    {
     "data": {
      "image/png": "[encoded data removed]",
      "text/plain": [
       "<Figure size 432x288 with 1 Axes>"
      ]
     },
     "metadata": {
      "needs_background": "light"
     },
     "output_type": "display_data"
    }
   ],
   "source": [
    "plt.plot(recordV)\n",
    "plt.show()"
   ]
  },
  {
   "cell_type": "code",
   "execution_count": 204,
   "id": "60366996-a0bd-4ef8-9a9c-322e5ca45fe4",
   "metadata": {},
   "outputs": [
    {
     "data": {
      "application/vnd.jupyter.widget-view+json": {
       "model_id": "97216d2dc0f54557b7024b8ea8326de4",
       "version_major": 2,
       "version_minor": 0
      },
      "text/plain": [
       "interactive(children=(IntSlider(value=499, description='idx', max=999), Output()), _dom_classes=('widget-inter…"
      ]
     },
     "metadata": {},
     "output_type": "display_data"
    },
    {
     "data": {
      "text/plain": [
       "<function __main__.series(idx)>"
      ]
     },
     "execution_count": 204,
     "metadata": {},
     "output_type": "execute_result"
    }
   ],
   "source": [
    "from __future__ import print_function\n",
    "from ipywidgets import interact, interactive, fixed, interact_manual\n",
    "import ipywidgets as widgets\n",
    "import matplotlib.pyplot as plt, random\n",
    "\n",
    "def series(idx):\n",
    "    plt.figure(figsize=(8,6))\n",
    "    theta = np.linspace(0,2*np.pi,200)\n",
    "    plt.plot(np.cos(theta),np.sin(theta))\n",
    "    \n",
    "    plt.scatter(np.cos(recordX[idx,:]),np.sin(recordX[idx,:]),50,'r')\n",
    "    \n",
    "    [plt.plot([np.cos(recordX[idx,agents[i].linkedId[0 ]]),np.cos(recordX[idx,i]),np.cos(recordX[idx,agents[i].linkedId[1]])],\\\n",
    "              [np.sin(recordX[idx,agents[i].linkedId[0]]),np.sin(recordX[idx,i]),np.sin(recordX[idx,agents[i].linkedId[1]])],\\\n",
    "              'r') for i in range(numAgents)]\n",
    "    # [plt.plot([np.cos(recordX[idx,(i-1)%numAgents]),np.cos(recordX[idx,i]),np.cos(recordX[idx,(i+1)%numAgents])],\\\n",
    "    #           [np.sin(recordX[idx,(i-1)%numAgents]),np.sin(recordX[idx,i]),np.sin(recordX[idx,(i+1)%numAgents])],\\\n",
    "    #           'r') for i in range(numAgents)] \n",
    "    \n",
    "    plt.axis('equal')\n",
    "    plt.show()\n",
    "    return\n",
    "\n",
    "interact(series, idx=(0,len(recordX)-1,1))"
   ]
  },
  {
   "cell_type": "code",
   "execution_count": 84,
   "id": "5656e06a-507e-415b-b3eb-8300514f6f0e",
   "metadata": {},
   "outputs": [],
   "source": [
    "recordX = np.zeros((totalNum,numAgents))\n",
    "recordX[0,:] = np.random.uniform(0,2*np.pi,size=(numAgents,))\n",
    "\n",
    "def ddtX(x,t,othersX,omega):\n",
    "    return omega - np.sum(np.sin((othersX-x)))\n",
    "\n",
    "def nextX(dt,x,othersX,omega):\n",
    "    return odeint(ddtX,x,(0,dt),args=(othersX,omega))\n",
    "\n",
    "for idxT in range(1,totalNum):\n",
    "    for idxA in range(numAgents):\n",
    "        othersX = [recordX[idxT-1,(idxA-1)%numAgents], recordX[idxT-1,(idxA+1)%numAgents]]  \n",
    "        recordX[idxT,idxA] = nextX(dt,recordX[idxT-1,idxA],othersX,omega)[-1]\n",
    "    recordX[idxT,:] -= recordX[idxT,0]\n"
   ]
  },
  {
   "cell_type": "code",
   "execution_count": 65,
   "id": "34dc2976-3330-4fa6-b222-aef95d0a098b",
   "metadata": {},
   "outputs": [
    {
     "data": {
      "text/plain": [
       "9"
      ]
     },
     "execution_count": 65,
     "metadata": {},
     "output_type": "execute_result"
    }
   ],
   "source": [
    "-1%10"
   ]
  }
 ],
 "metadata": {
  "kernelspec": {
   "display_name": "Python 3 (ipykernel)",
   "language": "python",
   "name": "python3"
  },
  "language_info": {
   "codemirror_mode": {
    "name": "ipython",
    "version": 3
   },
   "file_extension": ".py",
   "mimetype": "text/x-python",
   "name": "python",
   "nbconvert_exporter": "python",
   "pygments_lexer": "ipython3",
   "version": "3.8.5"
  }
 },
 "nbformat": 4,
 "nbformat_minor": 5
}
